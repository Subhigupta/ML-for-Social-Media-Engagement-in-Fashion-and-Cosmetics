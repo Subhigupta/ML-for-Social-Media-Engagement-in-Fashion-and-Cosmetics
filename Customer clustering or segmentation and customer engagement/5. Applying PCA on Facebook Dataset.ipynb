{
 "cells": [
  {
   "cell_type": "markdown",
   "id": "ca32656b",
   "metadata": {},
   "source": [
    "### Applying PCA on both before2015 and after2015 datasets.\n",
    "\n",
    "Through PCA we will see how many principal components in both the datsets can represent our original datasets very well.\n",
    "\n",
    "It will be useful for dimensionality reduction"
   ]
  },
  {
   "cell_type": "code",
   "execution_count": 65,
   "id": "fb333e18",
   "metadata": {},
   "outputs": [],
   "source": [
    "#importing the libraries\n",
    "from sklearn.decomposition import PCA \n",
    "from sklearn.preprocessing import StandardScaler\n",
    "import matplotlib.pyplot as plt\n",
    "import numpy as np\n",
    "import pandas as pd"
   ]
  },
  {
   "cell_type": "code",
   "execution_count": 66,
   "id": "1327a67b",
   "metadata": {},
   "outputs": [],
   "source": [
    "#Access the stored variables\n",
    "%store -r before2015\n",
    "%store -r after2015\n",
    "%store -r reaction"
   ]
  },
  {
   "cell_type": "code",
   "execution_count": 67,
   "id": "3d6db926",
   "metadata": {},
   "outputs": [
    {
     "data": {
      "text/html": [
       "<div>\n",
       "<style scoped>\n",
       "    .dataframe tbody tr th:only-of-type {\n",
       "        vertical-align: middle;\n",
       "    }\n",
       "\n",
       "    .dataframe tbody tr th {\n",
       "        vertical-align: top;\n",
       "    }\n",
       "\n",
       "    .dataframe thead th {\n",
       "        text-align: right;\n",
       "    }\n",
       "</style>\n",
       "<table border=\"1\" class=\"dataframe\">\n",
       "  <thead>\n",
       "    <tr style=\"text-align: right;\">\n",
       "      <th></th>\n",
       "      <th>status_type</th>\n",
       "      <th>status_published</th>\n",
       "      <th>num_reactions</th>\n",
       "      <th>num_comments</th>\n",
       "      <th>num_shares</th>\n",
       "      <th>num_likes</th>\n",
       "      <th>num_loves</th>\n",
       "      <th>num_wows</th>\n",
       "      <th>num_hahas</th>\n",
       "      <th>num_sads</th>\n",
       "      <th>num_angrys</th>\n",
       "      <th>year</th>\n",
       "      <th>month</th>\n",
       "      <th>dayofweek</th>\n",
       "      <th>hour</th>\n",
       "    </tr>\n",
       "  </thead>\n",
       "  <tbody>\n",
       "    <tr>\n",
       "      <th>976</th>\n",
       "      <td>1</td>\n",
       "      <td>2015-12-31 08:20:00</td>\n",
       "      <td>318</td>\n",
       "      <td>7</td>\n",
       "      <td>1</td>\n",
       "      <td>318</td>\n",
       "      <td>0</td>\n",
       "      <td>0</td>\n",
       "      <td>0</td>\n",
       "      <td>0</td>\n",
       "      <td>0</td>\n",
       "      <td>2015</td>\n",
       "      <td>12</td>\n",
       "      <td>3</td>\n",
       "      <td>8</td>\n",
       "    </tr>\n",
       "    <tr>\n",
       "      <th>977</th>\n",
       "      <td>1</td>\n",
       "      <td>2015-12-29 06:29:00</td>\n",
       "      <td>370</td>\n",
       "      <td>16</td>\n",
       "      <td>1</td>\n",
       "      <td>370</td>\n",
       "      <td>0</td>\n",
       "      <td>0</td>\n",
       "      <td>0</td>\n",
       "      <td>0</td>\n",
       "      <td>0</td>\n",
       "      <td>2015</td>\n",
       "      <td>12</td>\n",
       "      <td>1</td>\n",
       "      <td>6</td>\n",
       "    </tr>\n",
       "    <tr>\n",
       "      <th>978</th>\n",
       "      <td>1</td>\n",
       "      <td>2015-12-28 03:55:00</td>\n",
       "      <td>58</td>\n",
       "      <td>3</td>\n",
       "      <td>0</td>\n",
       "      <td>58</td>\n",
       "      <td>0</td>\n",
       "      <td>0</td>\n",
       "      <td>0</td>\n",
       "      <td>0</td>\n",
       "      <td>0</td>\n",
       "      <td>2015</td>\n",
       "      <td>12</td>\n",
       "      <td>0</td>\n",
       "      <td>3</td>\n",
       "    </tr>\n",
       "    <tr>\n",
       "      <th>979</th>\n",
       "      <td>1</td>\n",
       "      <td>2015-12-28 03:54:00</td>\n",
       "      <td>45</td>\n",
       "      <td>0</td>\n",
       "      <td>0</td>\n",
       "      <td>45</td>\n",
       "      <td>0</td>\n",
       "      <td>0</td>\n",
       "      <td>0</td>\n",
       "      <td>0</td>\n",
       "      <td>0</td>\n",
       "      <td>2015</td>\n",
       "      <td>12</td>\n",
       "      <td>0</td>\n",
       "      <td>3</td>\n",
       "    </tr>\n",
       "    <tr>\n",
       "      <th>980</th>\n",
       "      <td>1</td>\n",
       "      <td>2015-12-28 03:40:00</td>\n",
       "      <td>69</td>\n",
       "      <td>0</td>\n",
       "      <td>0</td>\n",
       "      <td>69</td>\n",
       "      <td>0</td>\n",
       "      <td>0</td>\n",
       "      <td>0</td>\n",
       "      <td>0</td>\n",
       "      <td>0</td>\n",
       "      <td>2015</td>\n",
       "      <td>12</td>\n",
       "      <td>0</td>\n",
       "      <td>3</td>\n",
       "    </tr>\n",
       "  </tbody>\n",
       "</table>\n",
       "</div>"
      ],
      "text/plain": [
       "     status_type    status_published  num_reactions  num_comments  num_shares  \\\n",
       "976            1 2015-12-31 08:20:00            318             7           1   \n",
       "977            1 2015-12-29 06:29:00            370            16           1   \n",
       "978            1 2015-12-28 03:55:00             58             3           0   \n",
       "979            1 2015-12-28 03:54:00             45             0           0   \n",
       "980            1 2015-12-28 03:40:00             69             0           0   \n",
       "\n",
       "     num_likes  num_loves  num_wows  num_hahas  num_sads  num_angrys  year  \\\n",
       "976        318          0         0          0         0           0  2015   \n",
       "977        370          0         0          0         0           0  2015   \n",
       "978         58          0         0          0         0           0  2015   \n",
       "979         45          0         0          0         0           0  2015   \n",
       "980         69          0         0          0         0           0  2015   \n",
       "\n",
       "     month  dayofweek  hour  \n",
       "976     12          3     8  \n",
       "977     12          1     6  \n",
       "978     12          0     3  \n",
       "979     12          0     3  \n",
       "980     12          0     3  "
      ]
     },
     "execution_count": 67,
     "metadata": {},
     "output_type": "execute_result"
    }
   ],
   "source": [
    "before2015.head(5)"
   ]
  },
  {
   "cell_type": "code",
   "execution_count": 68,
   "id": "74dc6be0",
   "metadata": {},
   "outputs": [
    {
     "data": {
      "text/plain": [
       "(1659, 15)"
      ]
     },
     "execution_count": 68,
     "metadata": {},
     "output_type": "execute_result"
    }
   ],
   "source": [
    "before2015.shape"
   ]
  },
  {
   "cell_type": "code",
   "execution_count": 69,
   "id": "00b8cdba",
   "metadata": {},
   "outputs": [
    {
     "data": {
      "text/html": [
       "<div>\n",
       "<style scoped>\n",
       "    .dataframe tbody tr th:only-of-type {\n",
       "        vertical-align: middle;\n",
       "    }\n",
       "\n",
       "    .dataframe tbody tr th {\n",
       "        vertical-align: top;\n",
       "    }\n",
       "\n",
       "    .dataframe thead th {\n",
       "        text-align: right;\n",
       "    }\n",
       "</style>\n",
       "<table border=\"1\" class=\"dataframe\">\n",
       "  <thead>\n",
       "    <tr style=\"text-align: right;\">\n",
       "      <th></th>\n",
       "      <th>status_type</th>\n",
       "      <th>status_published</th>\n",
       "      <th>num_reactions</th>\n",
       "      <th>num_comments</th>\n",
       "      <th>num_shares</th>\n",
       "      <th>num_likes</th>\n",
       "      <th>num_loves</th>\n",
       "      <th>num_wows</th>\n",
       "      <th>num_hahas</th>\n",
       "      <th>num_sads</th>\n",
       "      <th>num_angrys</th>\n",
       "      <th>year</th>\n",
       "      <th>month</th>\n",
       "      <th>dayofweek</th>\n",
       "      <th>hour</th>\n",
       "    </tr>\n",
       "  </thead>\n",
       "  <tbody>\n",
       "    <tr>\n",
       "      <th>0</th>\n",
       "      <td>3</td>\n",
       "      <td>2018-04-22 06:00:00</td>\n",
       "      <td>529</td>\n",
       "      <td>512</td>\n",
       "      <td>262</td>\n",
       "      <td>432</td>\n",
       "      <td>92</td>\n",
       "      <td>3</td>\n",
       "      <td>1</td>\n",
       "      <td>1</td>\n",
       "      <td>0</td>\n",
       "      <td>2018</td>\n",
       "      <td>4</td>\n",
       "      <td>6</td>\n",
       "      <td>6</td>\n",
       "    </tr>\n",
       "    <tr>\n",
       "      <th>1</th>\n",
       "      <td>1</td>\n",
       "      <td>2018-04-21 22:45:00</td>\n",
       "      <td>150</td>\n",
       "      <td>0</td>\n",
       "      <td>0</td>\n",
       "      <td>150</td>\n",
       "      <td>0</td>\n",
       "      <td>0</td>\n",
       "      <td>0</td>\n",
       "      <td>0</td>\n",
       "      <td>0</td>\n",
       "      <td>2018</td>\n",
       "      <td>4</td>\n",
       "      <td>5</td>\n",
       "      <td>22</td>\n",
       "    </tr>\n",
       "    <tr>\n",
       "      <th>2</th>\n",
       "      <td>3</td>\n",
       "      <td>2018-04-21 06:17:00</td>\n",
       "      <td>227</td>\n",
       "      <td>236</td>\n",
       "      <td>57</td>\n",
       "      <td>204</td>\n",
       "      <td>21</td>\n",
       "      <td>1</td>\n",
       "      <td>1</td>\n",
       "      <td>0</td>\n",
       "      <td>0</td>\n",
       "      <td>2018</td>\n",
       "      <td>4</td>\n",
       "      <td>5</td>\n",
       "      <td>6</td>\n",
       "    </tr>\n",
       "    <tr>\n",
       "      <th>3</th>\n",
       "      <td>1</td>\n",
       "      <td>2018-04-21 02:29:00</td>\n",
       "      <td>111</td>\n",
       "      <td>0</td>\n",
       "      <td>0</td>\n",
       "      <td>111</td>\n",
       "      <td>0</td>\n",
       "      <td>0</td>\n",
       "      <td>0</td>\n",
       "      <td>0</td>\n",
       "      <td>0</td>\n",
       "      <td>2018</td>\n",
       "      <td>4</td>\n",
       "      <td>5</td>\n",
       "      <td>2</td>\n",
       "    </tr>\n",
       "    <tr>\n",
       "      <th>4</th>\n",
       "      <td>1</td>\n",
       "      <td>2018-04-18 03:22:00</td>\n",
       "      <td>213</td>\n",
       "      <td>0</td>\n",
       "      <td>0</td>\n",
       "      <td>204</td>\n",
       "      <td>9</td>\n",
       "      <td>0</td>\n",
       "      <td>0</td>\n",
       "      <td>0</td>\n",
       "      <td>0</td>\n",
       "      <td>2018</td>\n",
       "      <td>4</td>\n",
       "      <td>2</td>\n",
       "      <td>3</td>\n",
       "    </tr>\n",
       "  </tbody>\n",
       "</table>\n",
       "</div>"
      ],
      "text/plain": [
       "   status_type    status_published  num_reactions  num_comments  num_shares  \\\n",
       "0            3 2018-04-22 06:00:00            529           512         262   \n",
       "1            1 2018-04-21 22:45:00            150             0           0   \n",
       "2            3 2018-04-21 06:17:00            227           236          57   \n",
       "3            1 2018-04-21 02:29:00            111             0           0   \n",
       "4            1 2018-04-18 03:22:00            213             0           0   \n",
       "\n",
       "   num_likes  num_loves  num_wows  num_hahas  num_sads  num_angrys  year  \\\n",
       "0        432         92         3          1         1           0  2018   \n",
       "1        150          0         0          0         0           0  2018   \n",
       "2        204         21         1          1         0           0  2018   \n",
       "3        111          0         0          0         0           0  2018   \n",
       "4        204          9         0          0         0           0  2018   \n",
       "\n",
       "   month  dayofweek  hour  \n",
       "0      4          6     6  \n",
       "1      4          5    22  \n",
       "2      4          5     6  \n",
       "3      4          5     2  \n",
       "4      4          2     3  "
      ]
     },
     "execution_count": 69,
     "metadata": {},
     "output_type": "execute_result"
    }
   ],
   "source": [
    "after2015.head(5)"
   ]
  },
  {
   "cell_type": "markdown",
   "id": "2bf15e1a",
   "metadata": {},
   "source": [
    "### Applying PCA on before2015 dataset\n",
    "\n",
    "#### First do feature scaling \n",
    "Feature scaling is an important step before applying PCA to an dataset.\n",
    "\n",
    "Standard scaler: [Sklearn standard scaler](https://scikit-learn.org/stable/modules/generated/sklearn.preprocessing.StandardScaler.html)"
   ]
  },
  {
   "cell_type": "code",
   "execution_count": 70,
   "id": "1e33f7d1",
   "metadata": {},
   "outputs": [
    {
     "data": {
      "text/plain": [
       "(1659, 9)"
      ]
     },
     "execution_count": 70,
     "metadata": {},
     "output_type": "execute_result"
    }
   ],
   "source": [
    "scaler=StandardScaler()\n",
    "before2015_scaled=scaler.fit_transform(before2015[reaction])\n",
    "before2015_scaled.shape"
   ]
  },
  {
   "cell_type": "markdown",
   "id": "b06c755d",
   "metadata": {},
   "source": [
    "#### First fit PCA on before2015 dataset keeping number of components = 9"
   ]
  },
  {
   "cell_type": "code",
   "execution_count": 71,
   "id": "3868cca1",
   "metadata": {},
   "outputs": [],
   "source": [
    "#pca = PCA(svd_solver='randomized', random_state=123)\n",
    "pca=PCA()"
   ]
  },
  {
   "cell_type": "code",
   "execution_count": 72,
   "id": "e3167310",
   "metadata": {},
   "outputs": [
    {
     "data": {
      "text/plain": [
       "(1659, 9)"
      ]
     },
     "execution_count": 72,
     "metadata": {},
     "output_type": "execute_result"
    }
   ],
   "source": [
    "transformed_data=pca.fit_transform(before2015_scaled)\n",
    "transformed_data.shape"
   ]
  },
  {
   "cell_type": "code",
   "execution_count": 73,
   "id": "18cff06b",
   "metadata": {},
   "outputs": [
    {
     "data": {
      "text/plain": [
       "array([2.64732173e+00, 1.18727619e+00, 1.67814629e-01, 8.98284772e-33,\n",
       "       0.00000000e+00, 0.00000000e+00, 0.00000000e+00, 0.00000000e+00,\n",
       "       0.00000000e+00])"
      ]
     },
     "execution_count": 73,
     "metadata": {},
     "output_type": "execute_result"
    }
   ],
   "source": [
    "pca.explained_variance_ #the values are the eigen values which tell us how much variance is explained by each eigen vectors "
   ]
  },
  {
   "cell_type": "code",
   "execution_count": 74,
   "id": "cad483ab",
   "metadata": {},
   "outputs": [
    {
     "data": {
      "text/plain": [
       "array([[ 5.28150738e-01,  4.78008808e-01,  4.62191708e-01,\n",
       "         5.28150738e-01,  0.00000000e+00,  0.00000000e+00,\n",
       "         0.00000000e+00,  0.00000000e+00,  0.00000000e+00],\n",
       "       [-4.69848783e-01,  5.11035615e-01,  5.45276849e-01,\n",
       "        -4.69848783e-01,  0.00000000e+00,  0.00000000e+00,\n",
       "         0.00000000e+00,  0.00000000e+00,  0.00000000e+00],\n",
       "       [-1.72892649e-02,  7.14387976e-01, -6.99322517e-01,\n",
       "        -1.72892649e-02, -0.00000000e+00, -0.00000000e+00,\n",
       "        -0.00000000e+00, -0.00000000e+00, -0.00000000e+00],\n",
       "       [ 7.07106781e-01, -1.49997657e-16, -2.11719260e-18,\n",
       "        -7.07106781e-01,  0.00000000e+00,  0.00000000e+00,\n",
       "         0.00000000e+00,  0.00000000e+00,  0.00000000e+00],\n",
       "       [ 0.00000000e+00,  0.00000000e+00,  0.00000000e+00,\n",
       "         0.00000000e+00,  0.00000000e+00,  0.00000000e+00,\n",
       "         0.00000000e+00,  0.00000000e+00,  1.00000000e+00],\n",
       "       [ 0.00000000e+00,  0.00000000e+00,  0.00000000e+00,\n",
       "         0.00000000e+00,  0.00000000e+00,  0.00000000e+00,\n",
       "         0.00000000e+00,  1.00000000e+00,  0.00000000e+00],\n",
       "       [ 0.00000000e+00,  0.00000000e+00,  0.00000000e+00,\n",
       "         0.00000000e+00,  0.00000000e+00,  0.00000000e+00,\n",
       "         1.00000000e+00,  0.00000000e+00,  0.00000000e+00],\n",
       "       [ 0.00000000e+00,  0.00000000e+00,  0.00000000e+00,\n",
       "         0.00000000e+00,  0.00000000e+00,  1.00000000e+00,\n",
       "         0.00000000e+00,  0.00000000e+00,  0.00000000e+00],\n",
       "       [ 0.00000000e+00,  0.00000000e+00,  0.00000000e+00,\n",
       "         0.00000000e+00,  1.00000000e+00,  0.00000000e+00,\n",
       "         0.00000000e+00,  0.00000000e+00,  0.00000000e+00]])"
      ]
     },
     "execution_count": 74,
     "metadata": {},
     "output_type": "execute_result"
    }
   ],
   "source": [
    "pca.components_ #the principal components are the eigen vectors"
   ]
  },
  {
   "cell_type": "markdown",
   "id": "c39348b7",
   "metadata": {},
   "source": [
    "From the eigen values and eigen vectors we can see that first four principal components explains the original data very well.\n",
    "\n",
    "#### Now find the optimal number of principal components i.e k"
   ]
  },
  {
   "cell_type": "code",
   "execution_count": 75,
   "id": "b99dee12",
   "metadata": {},
   "outputs": [
    {
     "data": {
      "text/plain": [
       "2"
      ]
     },
     "execution_count": 75,
     "metadata": {},
     "output_type": "execute_result"
    }
   ],
   "source": [
    "total=sum(pca.explained_variance_) # calculate the total variance across the dataset\n",
    "k=0 #number of principal components\n",
    "current_variance=0\n",
    "\n",
    "#Iteratively keep adding variance across each direction in current variance and check the value of current_variance/total\n",
    "while current_variance/total < 0.95: # running PCA with 99% variance\n",
    "    current_variance += pca.explained_variance_[k]\n",
    "    k=k+1\n",
    "k\n",
    "#the k value here is telling that 99% of the information can be contained in just 17 features rather than 30 orignal features"
   ]
  },
  {
   "cell_type": "markdown",
   "id": "9391a442",
   "metadata": {},
   "source": [
    "#### Now fit PCA on the dataset for optimal value of principal components obtained"
   ]
  },
  {
   "cell_type": "code",
   "execution_count": 76,
   "id": "376f44f7",
   "metadata": {},
   "outputs": [
    {
     "data": {
      "text/plain": [
       "(1659, 2)"
      ]
     },
     "execution_count": 76,
     "metadata": {},
     "output_type": "execute_result"
    }
   ],
   "source": [
    "pca=PCA(n_components=k)\n",
    "x_pca=pca.fit_transform(before2015_scaled) #will find the components\n",
    "\n",
    "x_pca.shape"
   ]
  },
  {
   "cell_type": "markdown",
   "id": "8d189b29",
   "metadata": {},
   "source": [
    "#### Storing the eigen value and corresponding eigen vector in a tuple"
   ]
  },
  {
   "cell_type": "code",
   "execution_count": 77,
   "id": "6e06b04a",
   "metadata": {},
   "outputs": [
    {
     "data": {
      "text/plain": [
       "[(2.6473217251553205,\n",
       "  array([ 0.52815074,  0.47800881,  0.46219171,  0.52815074, -0.        ,\n",
       "         -0.        , -0.        , -0.        , -0.        ])),\n",
       " (1.187276191395463,\n",
       "  array([-0.46984878,  0.51103561,  0.54527685, -0.46984878,  0.        ,\n",
       "          0.        ,  0.        ,  0.        ,  0.        ]))]"
      ]
     },
     "execution_count": 77,
     "metadata": {},
     "output_type": "execute_result"
    }
   ],
   "source": [
    "principal_component_variance_pair=[]\n",
    "for i in range(len(pca.explained_variance_)):\n",
    "    component=pca.components_[i,:]\n",
    "    principal_component_variance_pair.append((pca.explained_variance_[i],component))\n",
    "principal_component_variance_pair \n",
    "principal_component_variance_pair"
   ]
  },
  {
   "cell_type": "code",
   "execution_count": 78,
   "id": "f8a6d048",
   "metadata": {},
   "outputs": [
    {
     "data": {
      "text/html": [
       "<div>\n",
       "<style scoped>\n",
       "    .dataframe tbody tr th:only-of-type {\n",
       "        vertical-align: middle;\n",
       "    }\n",
       "\n",
       "    .dataframe tbody tr th {\n",
       "        vertical-align: top;\n",
       "    }\n",
       "\n",
       "    .dataframe thead th {\n",
       "        text-align: right;\n",
       "    }\n",
       "</style>\n",
       "<table border=\"1\" class=\"dataframe\">\n",
       "  <thead>\n",
       "    <tr style=\"text-align: right;\">\n",
       "      <th></th>\n",
       "      <th>PC1</th>\n",
       "      <th>PC2</th>\n",
       "      <th>Feature</th>\n",
       "    </tr>\n",
       "  </thead>\n",
       "  <tbody>\n",
       "    <tr>\n",
       "      <th>0</th>\n",
       "      <td>0.528151</td>\n",
       "      <td>-0.469849</td>\n",
       "      <td>num_reactions</td>\n",
       "    </tr>\n",
       "    <tr>\n",
       "      <th>1</th>\n",
       "      <td>0.478009</td>\n",
       "      <td>0.511036</td>\n",
       "      <td>num_comments</td>\n",
       "    </tr>\n",
       "    <tr>\n",
       "      <th>2</th>\n",
       "      <td>0.462192</td>\n",
       "      <td>0.545277</td>\n",
       "      <td>num_shares</td>\n",
       "    </tr>\n",
       "    <tr>\n",
       "      <th>3</th>\n",
       "      <td>0.528151</td>\n",
       "      <td>-0.469849</td>\n",
       "      <td>num_likes</td>\n",
       "    </tr>\n",
       "    <tr>\n",
       "      <th>4</th>\n",
       "      <td>-0.000000</td>\n",
       "      <td>0.000000</td>\n",
       "      <td>num_loves</td>\n",
       "    </tr>\n",
       "    <tr>\n",
       "      <th>5</th>\n",
       "      <td>-0.000000</td>\n",
       "      <td>0.000000</td>\n",
       "      <td>num_wows</td>\n",
       "    </tr>\n",
       "    <tr>\n",
       "      <th>6</th>\n",
       "      <td>-0.000000</td>\n",
       "      <td>0.000000</td>\n",
       "      <td>num_hahas</td>\n",
       "    </tr>\n",
       "    <tr>\n",
       "      <th>7</th>\n",
       "      <td>-0.000000</td>\n",
       "      <td>0.000000</td>\n",
       "      <td>num_sads</td>\n",
       "    </tr>\n",
       "    <tr>\n",
       "      <th>8</th>\n",
       "      <td>-0.000000</td>\n",
       "      <td>0.000000</td>\n",
       "      <td>num_angrys</td>\n",
       "    </tr>\n",
       "  </tbody>\n",
       "</table>\n",
       "</div>"
      ],
      "text/plain": [
       "        PC1       PC2        Feature\n",
       "0  0.528151 -0.469849  num_reactions\n",
       "1  0.478009  0.511036   num_comments\n",
       "2  0.462192  0.545277     num_shares\n",
       "3  0.528151 -0.469849      num_likes\n",
       "4 -0.000000  0.000000      num_loves\n",
       "5 -0.000000  0.000000       num_wows\n",
       "6 -0.000000  0.000000      num_hahas\n",
       "7 -0.000000  0.000000       num_sads\n",
       "8 -0.000000  0.000000     num_angrys"
      ]
     },
     "execution_count": 78,
     "metadata": {},
     "output_type": "execute_result"
    }
   ],
   "source": [
    "feature_importance=pd.DataFrame({'PC1':pca.components_[0],'PC2':pca.components_[1],'Feature':reaction})\n",
    "feature_importance"
   ]
  },
  {
   "cell_type": "markdown",
   "id": "7defc165",
   "metadata": {},
   "source": [
    "We can observe that num_loves, num_wows, num_hahas, num_sads, num_angrys are all zero on both the principal axes. These faetures may not be available before 2015.\n",
    "\n",
    "For PC1, the most influential features are num_reactions and num_likes based on their relatively highly positive values.\n",
    "\n",
    "For PC2, the most influential features are num_shares and then num_comments based on their relatively highly positive values."
   ]
  },
  {
   "cell_type": "markdown",
   "id": "b3922d7a",
   "metadata": {},
   "source": [
    "### Applying PCA on after2015 dataset\n",
    "\n",
    "#### Feature scaling"
   ]
  },
  {
   "cell_type": "code",
   "execution_count": 79,
   "id": "013c7525",
   "metadata": {},
   "outputs": [
    {
     "data": {
      "text/plain": [
       "(5340, 9)"
      ]
     },
     "execution_count": 79,
     "metadata": {},
     "output_type": "execute_result"
    }
   ],
   "source": [
    "scaler=StandardScaler()\n",
    "after2015_scaled=scaler.fit_transform(after2015[reaction])\n",
    "after2015_scaled.shape"
   ]
  },
  {
   "cell_type": "markdown",
   "id": "d5513739",
   "metadata": {},
   "source": [
    "#### First fit PCA on after2015 dataset keeping number of components = 9"
   ]
  },
  {
   "cell_type": "code",
   "execution_count": 80,
   "id": "385f77c5",
   "metadata": {},
   "outputs": [
    {
     "data": {
      "text/plain": [
       "(5340, 9)"
      ]
     },
     "execution_count": 80,
     "metadata": {},
     "output_type": "execute_result"
    }
   ],
   "source": [
    "pca_after=PCA()\n",
    "transformed_data_after=pca_after.fit_transform(after2015_scaled)\n",
    "transformed_data_after.shape"
   ]
  },
  {
   "cell_type": "code",
   "execution_count": 81,
   "id": "fea9cf24",
   "metadata": {},
   "outputs": [
    {
     "data": {
      "text/plain": [
       "array([4.14263810e+00, 1.19430187e+00, 9.07661293e-01, 8.22380909e-01,\n",
       "       7.34728929e-01, 6.65869502e-01, 3.85053984e-01, 1.49051056e-01,\n",
       "       5.96628488e-08])"
      ]
     },
     "execution_count": 81,
     "metadata": {},
     "output_type": "execute_result"
    }
   ],
   "source": [
    "pca_after.explained_variance_ #the values are the eigen values which tell us how much variance is explained by each eigen vectors "
   ]
  },
  {
   "cell_type": "code",
   "execution_count": 82,
   "id": "a9e0b8c7",
   "metadata": {},
   "outputs": [
    {
     "data": {
      "text/plain": [
       "array([[ 4.17218088e-01,  3.00013157e-01,  4.00567956e-01,\n",
       "         3.76819828e-01,  4.33363203e-01,  2.98894645e-01,\n",
       "         2.83640094e-01,  1.55517615e-01,  2.27363577e-01],\n",
       "       [ 4.04951716e-01, -4.88555184e-01, -2.69208929e-01,\n",
       "         4.69977597e-01, -1.10665243e-01,  3.24307046e-01,\n",
       "        -1.48467960e-01, -3.59870642e-01, -1.87093775e-01],\n",
       "       [ 1.92070971e-01, -4.93613420e-02, -1.95361849e-01,\n",
       "         2.52435737e-01, -1.77195210e-01, -1.37686299e-01,\n",
       "        -2.34013836e-01,  8.57231972e-01, -1.37176370e-01],\n",
       "       [-1.17948159e-03, -2.69186918e-01, -1.61836051e-01,\n",
       "         8.50975247e-03, -4.86278648e-02, -4.93607840e-02,\n",
       "        -1.41007475e-01,  3.85983962e-02,  9.35467577e-01],\n",
       "       [-1.61162633e-01, -3.98693688e-01, -2.11313464e-01,\n",
       "        -2.12244032e-01,  1.08255341e-02,  3.56428669e-01,\n",
       "         7.20814738e-01,  2.78470718e-01, -3.30245986e-02],\n",
       "       [-2.14369994e-01, -7.69944137e-02,  2.03500919e-01,\n",
       "        -2.85001671e-01,  1.35261769e-01,  7.05115435e-01,\n",
       "        -5.30796759e-01,  1.65854975e-01, -2.72432326e-02],\n",
       "       [-3.20005949e-03,  6.35775509e-01, -4.13999292e-01,\n",
       "         6.47258648e-02, -4.84458167e-01,  3.96682656e-01,\n",
       "         9.15927514e-02, -6.78099618e-02,  1.23085915e-01],\n",
       "       [-1.88167937e-02, -1.65264954e-01,  6.67273023e-01,\n",
       "         9.92698238e-02, -7.06862414e-01,  4.30789983e-02,\n",
       "         1.14093784e-01,  1.73259083e-02,  4.89672119e-02],\n",
       "       [ 7.43477185e-01, -1.78812305e-06,  3.31569041e-05,\n",
       "        -6.58038176e-01, -1.15843003e-01, -2.55112533e-02,\n",
       "        -1.15874290e-02, -4.32555766e-03, -2.00740636e-03]])"
      ]
     },
     "execution_count": 82,
     "metadata": {},
     "output_type": "execute_result"
    }
   ],
   "source": [
    "pca_after.components_ #the principal components are the eigen vectors"
   ]
  },
  {
   "cell_type": "markdown",
   "id": "89a6b352",
   "metadata": {},
   "source": [
    "#### Now find the optimal number of principal components i.e k"
   ]
  },
  {
   "cell_type": "code",
   "execution_count": 83,
   "id": "324b6aa2",
   "metadata": {},
   "outputs": [
    {
     "data": {
      "text/plain": [
       "7"
      ]
     },
     "execution_count": 83,
     "metadata": {},
     "output_type": "execute_result"
    }
   ],
   "source": [
    "total=sum(pca_after.explained_variance_) # calculate the total variance across the dataset\n",
    "k=0 #number of principal components\n",
    "current_variance=0\n",
    "\n",
    "#Iteratively keep adding variance across each direction in current variance and check the value of current_variance/total\n",
    "while current_variance/total < 0.95: # running PCA with 99% variance\n",
    "    current_variance += pca_after.explained_variance_[k]\n",
    "    k=k+1\n",
    "k\n",
    "#the k value here is telling that 99% of the information can be contained in just 17 features rather than 30 orignal features"
   ]
  },
  {
   "cell_type": "markdown",
   "id": "e00b1b5b",
   "metadata": {},
   "source": [
    "#### Now fit PCA on the dataset for optimal value of principal components obtained"
   ]
  },
  {
   "cell_type": "code",
   "execution_count": 84,
   "id": "f3190d6a",
   "metadata": {},
   "outputs": [
    {
     "data": {
      "text/plain": [
       "array([4.1426381 , 1.19430187, 0.90766129, 0.82238091, 0.73472893,\n",
       "       0.6658695 , 0.38505398])"
      ]
     },
     "execution_count": 84,
     "metadata": {},
     "output_type": "execute_result"
    }
   ],
   "source": [
    "pca_after=PCA(n_components=k)\n",
    "x_pca_after=pca_after.fit_transform(after2015_scaled) #will find the components\n",
    "\n",
    "x_pca_after.shape\n",
    "pca_after.explained_variance_"
   ]
  },
  {
   "cell_type": "markdown",
   "id": "d71884da",
   "metadata": {},
   "source": [
    "#### Storing the eigen value and corresponding eigen vector in a tuple"
   ]
  },
  {
   "cell_type": "code",
   "execution_count": 85,
   "id": "1420f0d4",
   "metadata": {},
   "outputs": [
    {
     "data": {
      "text/plain": [
       "[(4.142638103339191,\n",
       "  array([0.41721809, 0.30001316, 0.40056796, 0.37681983, 0.4333632 ,\n",
       "         0.29889465, 0.28364009, 0.15551762, 0.22736358])),\n",
       " (1.1943018718703404,\n",
       "  array([ 0.40495172, -0.48855518, -0.26920893,  0.4699776 , -0.11066524,\n",
       "          0.32430705, -0.14846796, -0.35987064, -0.18709378])),\n",
       " (0.9076612932679871,\n",
       "  array([ 0.19207097, -0.04936134, -0.19536185,  0.25243574, -0.17719521,\n",
       "         -0.1376863 , -0.23401384,  0.85723197, -0.13717637])),\n",
       " (0.8223809093229147,\n",
       "  array([-0.00117948, -0.26918692, -0.16183605,  0.00850975, -0.04862786,\n",
       "         -0.04936078, -0.14100748,  0.0385984 ,  0.93546758])),\n",
       " (0.7347289291965184,\n",
       "  array([-0.16116263, -0.39869369, -0.21131346, -0.21224403,  0.01082553,\n",
       "          0.35642867,  0.72081474,  0.27847072, -0.0330246 ])),\n",
       " (0.6658695015637539,\n",
       "  array([-0.21436999, -0.07699441,  0.20350092, -0.28500167,  0.13526177,\n",
       "          0.70511544, -0.53079676,  0.16585497, -0.02724323])),\n",
       " (0.3850539842833143,\n",
       "  array([-0.00320006,  0.63577551, -0.41399929,  0.06472586, -0.48445817,\n",
       "          0.39668266,  0.09159275, -0.06780996,  0.12308591]))]"
      ]
     },
     "execution_count": 85,
     "metadata": {},
     "output_type": "execute_result"
    }
   ],
   "source": [
    "principal_component_variance_pair_after=[]\n",
    "for i in range(len(pca_after.explained_variance_)):\n",
    "    component_after=pca_after.components_[i,:]\n",
    "    principal_component_variance_pair_after.append((pca_after.explained_variance_[i],component_after))\n",
    "principal_component_variance_pair_after "
   ]
  },
  {
   "cell_type": "code",
   "execution_count": 86,
   "id": "5a81ef5a",
   "metadata": {},
   "outputs": [
    {
     "data": {
      "text/html": [
       "<div>\n",
       "<style scoped>\n",
       "    .dataframe tbody tr th:only-of-type {\n",
       "        vertical-align: middle;\n",
       "    }\n",
       "\n",
       "    .dataframe tbody tr th {\n",
       "        vertical-align: top;\n",
       "    }\n",
       "\n",
       "    .dataframe thead th {\n",
       "        text-align: right;\n",
       "    }\n",
       "</style>\n",
       "<table border=\"1\" class=\"dataframe\">\n",
       "  <thead>\n",
       "    <tr style=\"text-align: right;\">\n",
       "      <th></th>\n",
       "      <th>PC1</th>\n",
       "      <th>PC2</th>\n",
       "      <th>Feature</th>\n",
       "    </tr>\n",
       "  </thead>\n",
       "  <tbody>\n",
       "    <tr>\n",
       "      <th>0</th>\n",
       "      <td>0.417218</td>\n",
       "      <td>0.404952</td>\n",
       "      <td>num_reactions</td>\n",
       "    </tr>\n",
       "    <tr>\n",
       "      <th>1</th>\n",
       "      <td>0.300013</td>\n",
       "      <td>-0.488555</td>\n",
       "      <td>num_comments</td>\n",
       "    </tr>\n",
       "    <tr>\n",
       "      <th>2</th>\n",
       "      <td>0.400568</td>\n",
       "      <td>-0.269209</td>\n",
       "      <td>num_shares</td>\n",
       "    </tr>\n",
       "    <tr>\n",
       "      <th>3</th>\n",
       "      <td>0.376820</td>\n",
       "      <td>0.469978</td>\n",
       "      <td>num_likes</td>\n",
       "    </tr>\n",
       "    <tr>\n",
       "      <th>4</th>\n",
       "      <td>0.433363</td>\n",
       "      <td>-0.110665</td>\n",
       "      <td>num_loves</td>\n",
       "    </tr>\n",
       "    <tr>\n",
       "      <th>5</th>\n",
       "      <td>0.298895</td>\n",
       "      <td>0.324307</td>\n",
       "      <td>num_wows</td>\n",
       "    </tr>\n",
       "    <tr>\n",
       "      <th>6</th>\n",
       "      <td>0.283640</td>\n",
       "      <td>-0.148468</td>\n",
       "      <td>num_hahas</td>\n",
       "    </tr>\n",
       "    <tr>\n",
       "      <th>7</th>\n",
       "      <td>0.155518</td>\n",
       "      <td>-0.359871</td>\n",
       "      <td>num_sads</td>\n",
       "    </tr>\n",
       "    <tr>\n",
       "      <th>8</th>\n",
       "      <td>0.227364</td>\n",
       "      <td>-0.187094</td>\n",
       "      <td>num_angrys</td>\n",
       "    </tr>\n",
       "  </tbody>\n",
       "</table>\n",
       "</div>"
      ],
      "text/plain": [
       "        PC1       PC2        Feature\n",
       "0  0.417218  0.404952  num_reactions\n",
       "1  0.300013 -0.488555   num_comments\n",
       "2  0.400568 -0.269209     num_shares\n",
       "3  0.376820  0.469978      num_likes\n",
       "4  0.433363 -0.110665      num_loves\n",
       "5  0.298895  0.324307       num_wows\n",
       "6  0.283640 -0.148468      num_hahas\n",
       "7  0.155518 -0.359871       num_sads\n",
       "8  0.227364 -0.187094     num_angrys"
      ]
     },
     "execution_count": 86,
     "metadata": {},
     "output_type": "execute_result"
    }
   ],
   "source": [
    "feature_importance_after=pd.DataFrame({'PC1':pca_after.components_[0],'PC2':pca_after.components_[1],'Feature':reaction})\n",
    "feature_importance_after"
   ]
  },
  {
   "cell_type": "code",
   "execution_count": 88,
   "id": "127d347f",
   "metadata": {},
   "outputs": [
    {
     "data": {
      "image/png": "[encoded data removed]",
      "text/plain": [
       "<Figure size 600x600 with 1 Axes>"
      ]
     },
     "metadata": {},
     "output_type": "display_data"
    }
   ],
   "source": [
    "fig = plt.figure(figsize = (6,6))\n",
    "plt.scatter(feature_importance_after.PC1, feature_importance_after.PC2)\n",
    "plt.xlabel('Principal Component 1')\n",
    "plt.ylabel('Principal Component 2')\n",
    "for i, txt in enumerate(feature_importance_after.Feature):\n",
    "    plt.annotate(txt, (feature_importance_after.PC1[i],feature_importance_after.PC2[i]))\n",
    "plt.tight_layout()\n",
    "plt.show()"
   ]
  },
  {
   "cell_type": "code",
   "execution_count": null,
   "id": "de66a5f5",
   "metadata": {},
   "outputs": [],
   "source": []
  }
 ],
 "metadata": {
  "kernelspec": {
   "display_name": "Python 3 (ipykernel)",
   "language": "python",
   "name": "python3"
  },
  "language_info": {
   "codemirror_mode": {
    "name": "ipython",
    "version": 3
   },
   "file_extension": ".py",
   "mimetype": "text/x-python",
   "name": "python",
   "nbconvert_exporter": "python",
   "pygments_lexer": "ipython3",
   "version": "3.10.9"
  }
 },
 "nbformat": 4,
 "nbformat_minor": 5
}
