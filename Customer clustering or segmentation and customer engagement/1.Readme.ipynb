{
 "cells": [
  {
   "cell_type": "markdown",
   "id": "1e7cca04",
   "metadata": {},
   "source": [
    "## Objective of the Project\n",
    "- The objective of the project is to employ unsupervised learning algorithms on a dataset from UCI Machine Learning Repository.\n",
    "- The aim will be to identify cluster patterns from the dataset, to help the fashion and cosmetic companies in increasing impressions (maximize the visibility of the posts and reach to a wider audience) and hence increase customer engagement on their  facebook page.\n",
    "\n",
    "## Terminologies\n",
    "1. ### Customer Segmentation or Clustering\n",
    "Segmentation, involves dividing a large customer base into specific groups or segments based on shared characteristics, behaviors, or preferences. \n",
    "\n",
    "2. ### Customer Engagement\n",
    "Customer engagement refers to the level of interaction and involvement that a customer has with a brand or company.\n",
    "\n",
    "## About the Dataset\n",
    "- [UCI Machine Learning Repository](https://archive.ics.uci.edu/dataset/488/facebook+live+sellers+in+thailand)\n",
    "- The dataset contains data from facebook pages of 10 Thai fashion and cosmetics retail sellers, selling their products online through facebook. \n",
    "- The posts on their pages are of a different nature such as video, photos, statuses, and links. \n",
    "- User interaction is quantified using various engagement metrics such as comments, shares, and reactions."
   ]
  },
  {
   "cell_type": "code",
   "execution_count": null,
   "id": "08a84974",
   "metadata": {},
   "outputs": [],
   "source": []
  }
 ],
 "metadata": {
  "kernelspec": {
   "display_name": "Python 3 (ipykernel)",
   "language": "python",
   "name": "python3"
  },
  "language_info": {
   "codemirror_mode": {
    "name": "ipython",
    "version": 3
   },
   "file_extension": ".py",
   "mimetype": "text/x-python",
   "name": "python",
   "nbconvert_exporter": "python",
   "pygments_lexer": "ipython3",
   "version": "3.10.9"
  }
 },
 "nbformat": 4,
 "nbformat_minor": 5
}
