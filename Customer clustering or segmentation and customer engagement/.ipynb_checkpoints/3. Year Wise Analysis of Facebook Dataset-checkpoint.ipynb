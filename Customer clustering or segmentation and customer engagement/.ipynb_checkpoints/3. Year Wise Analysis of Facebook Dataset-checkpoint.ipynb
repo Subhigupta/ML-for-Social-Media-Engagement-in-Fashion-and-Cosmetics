{
 "cells": [
  {
   "cell_type": "code",
   "execution_count": 2,
   "id": "1cfd4536",
   "metadata": {},
   "outputs": [],
   "source": [
    "#Access the stored variables\n",
    "%store -r before2015\n",
    "%store -r after2015"
   ]
  },
  {
   "cell_type": "code",
   "execution_count": null,
   "id": "e2564daa",
   "metadata": {},
   "outputs": [],
   "source": []
  }
 ],
 "metadata": {
  "kernelspec": {
   "display_name": "Python 3 (ipykernel)",
   "language": "python",
   "name": "python3"
  },
  "language_info": {
   "codemirror_mode": {
    "name": "ipython",
    "version": 3
   },
   "file_extension": ".py",
   "mimetype": "text/x-python",
   "name": "python",
   "nbconvert_exporter": "python",
   "pygments_lexer": "ipython3",
   "version": "3.10.9"
  }
 },
 "nbformat": 4,
 "nbformat_minor": 5
}
