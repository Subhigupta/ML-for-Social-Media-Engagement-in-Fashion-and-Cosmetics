{
 "cells": [
  {
   "cell_type": "code",
   "execution_count": 16,
   "id": "7c9e8e31",
   "metadata": {},
   "outputs": [],
   "source": [
    "#importing all libraries\n",
    "from sklearn import decomposition, ensemble, datasets, linear_model\n",
    "import numpy as np\n",
    "import time\n",
    "from sklearn.preprocessing import StandardScaler\n",
    "from sklearn.model_selection import train_test_split"
   ]
  },
  {
   "cell_type": "code",
   "execution_count": 10,
   "id": "9a6d3162",
   "metadata": {},
   "outputs": [],
   "source": [
    "#loading datasets\n",
    "breast_cancer=datasets.load_breast_cancer()"
   ]
  },
  {
   "cell_type": "code",
   "execution_count": 4,
   "id": "4ba873bd",
   "metadata": {},
   "outputs": [
    {
     "data": {
      "text/plain": [
       "(569, 30)"
      ]
     },
     "execution_count": 4,
     "metadata": {},
     "output_type": "execute_result"
    }
   ],
   "source": [
    "X=breast_cancer.data\n",
    "X.shape"
   ]
  },
  {
   "cell_type": "code",
   "execution_count": 11,
   "id": "9548d7e0",
   "metadata": {},
   "outputs": [],
   "source": [
    "#Scaling the data\n",
    "sc=StandardScaler()\n",
    "X_std=sc.fit_transform(X)"
   ]
  },
  {
   "cell_type": "code",
   "execution_count": 12,
   "id": "4dd3dd34",
   "metadata": {},
   "outputs": [],
   "source": [
    "#Splitting the data into train and test\n",
    "x_train, x_test, y_train, y_test=train_test_split(X_std, breast_cancer.target,random_state=0)"
   ]
  },
  {
   "cell_type": "code",
   "execution_count": 28,
   "id": "753f7a72",
   "metadata": {},
   "outputs": [
    {
     "data": {
      "text/plain": [
       "(143, 15)"
      ]
     },
     "execution_count": 28,
     "metadata": {},
     "output_type": "execute_result"
    }
   ],
   "source": [
    "pca=decomposition.PCA(n_components=15)\n",
    "x_train_pca=pca.fit_transform(x_train) #will find the components\n",
    "x_test_pca=pca.transform(x_test) # move the testing data to those components\n",
    "x_test_pca.shape"
   ]
  },
  {
   "cell_type": "code",
   "execution_count": 20,
   "id": "b17a0c48",
   "metadata": {},
   "outputs": [
    {
     "name": "stdout",
     "output_type": "stream",
     "text": [
      "0.005484819412231445\n",
      "0.965034965034965\n"
     ]
    }
   ],
   "source": [
    "lr=linear_model.LogisticRegression() #using logistic regression model\n",
    "start=time.time() #starting time\n",
    "lr.fit(x_train,y_train) #fitting training data\n",
    "ending=time.time() #ending time\n",
    "print(ending-start)\n",
    "print(lr.score(x_test,y_test))"
   ]
  },
  {
   "cell_type": "code",
   "execution_count": 27,
   "id": "c533380b",
   "metadata": {},
   "outputs": [
    {
     "name": "stdout",
     "output_type": "stream",
     "text": [
      "0.006364583969116211\n",
      "0.958041958041958\n"
     ]
    }
   ],
   "source": [
    "lr=linear_model.LogisticRegression() #using logistic regression model\n",
    "start=time.time() #starting time\n",
    "lr.fit(x_train_pca,y_train) #fitting training data on reduced features\n",
    "ending=time.time() #ending time\n",
    "print(ending-start)\n",
    "print(lr.score(x_test_pca,y_test))\n",
    "\n",
    "#after reducing the number of components the time should be less\n",
    "#If we are getting jump in speed then we may be okay with reduction in accuracy"
   ]
  },
  {
   "cell_type": "code",
   "execution_count": null,
   "id": "a50e4d14",
   "metadata": {},
   "outputs": [],
   "source": []
  }
 ],
 "metadata": {
  "kernelspec": {
   "display_name": "Python 3 (ipykernel)",
   "language": "python",
   "name": "python3"
  },
  "language_info": {
   "codemirror_mode": {
    "name": "ipython",
    "version": 3
   },
   "file_extension": ".py",
   "mimetype": "text/x-python",
   "name": "python",
   "nbconvert_exporter": "python",
   "pygments_lexer": "ipython3",
   "version": "3.10.9"
  }
 },
 "nbformat": 4,
 "nbformat_minor": 5
}
